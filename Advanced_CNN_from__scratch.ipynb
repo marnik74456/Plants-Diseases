{
  "cells": [
    {
      "cell_type": "code",
      "execution_count": 1,
      "metadata": {
        "colab": {
          "base_uri": "https://localhost:8080/"
        },
        "id": "59vN2Q7Kgadf",
        "outputId": "d9fa4535-fa32-43e1-8551-39c937462ec4"
      },
      "outputs": [
        {
          "output_type": "stream",
          "name": "stdout",
          "text": [
            "Mounted at /content/drive\n"
          ]
        }
      ],
      "source": [
        "from google.colab import drive\n",
        "drive.mount('/content/drive')"
      ]
    },
    {
      "cell_type": "code",
      "execution_count": 2,
      "metadata": {
        "colab": {
          "base_uri": "https://localhost:8080/"
        },
        "id": "hptNFiiXdG7r",
        "outputId": "d3e1dcb4-5340-4072-a9be-63278883f6a4"
      },
      "outputs": [
        {
          "output_type": "stream",
          "name": "stdout",
          "text": [
            "Found 32083 files belonging to 33 classes.\n",
            "Found 4002 files belonging to 33 classes.\n",
            "Found 4000 files belonging to 33 classes.\n"
          ]
        }
      ],
      "source": [
        "import tensorflow as tf\n",
        "from tensorflow.keras.callbacks import EarlyStopping, ModelCheckpoint, CSVLogger\n",
        "from tensorflow.keras import  models, layers\n",
        "from tensorflow.keras.initializers import glorot_uniform\n",
        "\n",
        "IMAGE_SIZE = 256\n",
        "BATCH_SIZE = 32\n",
        "CHANNELS = 3\n",
        "EPOCHS = 50\n",
        "\n",
        "train_ds = tf.keras.preprocessing.image_dataset_from_directory(\n",
        "        \"/content/drive/MyDrive/Datastets/Splitted/train\",\n",
        "        shuffle = True,\n",
        "        image_size = (IMAGE_SIZE, IMAGE_SIZE),\n",
        "        batch_size = BATCH_SIZE\n",
        ")\n",
        "\n",
        "val_ds = tf.keras.preprocessing.image_dataset_from_directory(\n",
        "        \"/content/drive/MyDrive/Datastets/Splitted/val\",\n",
        "        shuffle = True,\n",
        "        image_size = (IMAGE_SIZE, IMAGE_SIZE),\n",
        "        batch_size = BATCH_SIZE\n",
        ")\n",
        "\n",
        "test_ds = tf.keras.preprocessing.image_dataset_from_directory(\n",
        "        \"/content/drive/MyDrive/Datastets/Splitted/test\",\n",
        "        shuffle = True,\n",
        "        image_size = (IMAGE_SIZE, IMAGE_SIZE),\n",
        "        batch_size = BATCH_SIZE\n",
        ")\n",
        "\n",
        "train_ds = train_ds.cache().shuffle(1000).prefetch(buffer_size = tf.data.AUTOTUNE)\n",
        "val_ds = val_ds.cache().shuffle(1000).prefetch(buffer_size = tf.data.AUTOTUNE)\n",
        "test_ds = test_ds.cache().shuffle(1000).prefetch(buffer_size = tf.data.AUTOTUNE)"
      ]
    },
    {
      "cell_type": "markdown",
      "metadata": {
        "id": "anT1Lk-ASM_x"
      },
      "source": [
        "## VGG16"
      ]
    },
    {
      "cell_type": "code",
      "execution_count": null,
      "metadata": {
        "colab": {
          "base_uri": "https://localhost:8080/"
        },
        "id": "qaCTFnl7Sw4o",
        "outputId": "89e870ef-f77e-475a-9473-e4d28af42f3b"
      },
      "outputs": [
        {
          "name": "stdout",
          "output_type": "stream",
          "text": [
            "Epoch 1/50\n"
          ]
        }
      ],
      "source": [
        "VGG16 = models.Sequential([\n",
        "                layers.experimental.preprocessing.Resizing(256, 256),\n",
        "                layers.experimental.preprocessing.Rescaling(1.0/255),\n",
        "                layers.Conv2D(64, kernel_size=(3,3), strides=(1,1), padding='same', activation='relu', input_shape=(IMAGE_SIZE, IMAGE_SIZE, 3)),\n",
        "                layers.Conv2D(64, kernel_size=(3,3), strides=(1,1), padding='same', activation='relu'),\n",
        "                layers.MaxPool2D(pool_size=(2,2),strides=(2,2), padding='valid'),\n",
        "                layers.Conv2D(128, kernel_size=(3,3), strides=(1,1), padding='same', activation='relu'),\n",
        "                layers.Conv2D(128, kernel_size=(3,3), strides=(1,1), padding='same', activation='relu'),\n",
        "                layers.MaxPool2D(pool_size=(2,2),strides=(2,2), padding='valid'),\n",
        "                layers.Conv2D(256, kernel_size=(3,3), strides=(1,1), padding='same', activation='relu'),\n",
        "                layers.Conv2D(256, kernel_size=(3,3), strides=(1,1), padding='same', activation='relu'),\n",
        "                layers.Conv2D(256, kernel_size=(3,3), strides=(1,1), padding='same', activation='relu'),\n",
        "                layers.MaxPool2D(pool_size=(2,2),strides=(2,2), padding='valid'),\n",
        "                layers.Conv2D(512, kernel_size=(3,3), strides=(1,1), padding='same', activation='relu'),\n",
        "                layers.Conv2D(512, kernel_size=(3,3), strides=(1,1), padding='same', activation='relu'),\n",
        "                layers.Conv2D(512, kernel_size=(3,3), strides=(1,1), padding='same', activation='relu'),\n",
        "                layers.MaxPool2D(pool_size=(2,2),strides=(2,2), padding='valid'),\n",
        "                layers.Conv2D(512, kernel_size=(3,3), strides=(1,1), padding='same', activation='relu'),\n",
        "                layers.Conv2D(512, kernel_size=(3,3), strides=(1,1), padding='same', activation='relu'),\n",
        "                layers.Conv2D(512, kernel_size=(3,3), strides=(1,1), padding='same', activation='relu'),\n",
        "                layers.MaxPool2D(pool_size=(2,2),strides=(2,2), padding='valid'),\n",
        "                layers.Flatten(),\n",
        "                layers.Dense(4096, activation='relu'),\n",
        "                layers.Dense(4096, activation='relu'),\n",
        "                layers.Dense(4096, activation='relu'),\n",
        "                layers.Dense(units=33, activation='softmax')\n",
        "])\n",
        "VGG16.compile(optimizer=tf.keras.optimizers.Adam(learning_rate=0.01, beta_1=0.9, beta_2=0.999, epsilon=10**(-7)),\n",
        "              loss=tf.keras.losses.SparseCategoricalCrossentropy(from_logits=False),\n",
        "              metrics=['accuracy'])\n",
        "\n",
        "history_logger = CSVLogger('VGG16_from_scractch_model.csv', separator=\",\", append=True)\n",
        "earlyStopping = EarlyStopping(monitor='val_loss', patience=10, verbose=0, mode='min')\n",
        "\n",
        "history = VGG16.fit(train_ds,\n",
        "                    epochs=EPOCHS,\n",
        "                    validation_data=val_ds,\n",
        "                    callbacks=[history_logger, earlyStopping])\n",
        "\n",
        "VGG16.save('VGG16_from_scratch_model.keras')"
      ]
    },
    {
      "cell_type": "markdown",
      "metadata": {
        "id": "Vr0aytKGgxkn"
      },
      "source": [
        "## ResNet50\n",
        "![image.png](data:image/png;base64,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)"
      ]
    },
    {
      "cell_type": "code",
      "execution_count": null,
      "metadata": {
        "id": "PJLzcuzagzCh"
      },
      "outputs": [],
      "source": [
        "def identity_block(X, filters, block, stage, stride=1):\n",
        "  X_shortcut = X\n",
        "\n",
        "  name_conv = f'resBlock{block}_stage{stage}'\n",
        "  name_BN = f'BNBlock{block}_stage{stage}'\n",
        "\n",
        "  # First layer\n",
        "  X = layers.Conv2D(filters[0], kernel_size=(1,1), padding='valid', strides=(stride,stride),\n",
        "                    kernel_initializer=glorot_uniform(seed=0), name=name_conv+'a')(X)\n",
        "  X = layers.BatchNormalization(axis=3, name=name_BN+'a')(X)\n",
        "  X = layers.Activation('relu')(X)\n",
        "\n",
        "  # Second layer\n",
        "  X = layers.Conv2D(filters[1], kernel_size=(3,3), padding='same', strides=(1,1),\n",
        "                    kernel_initializer=glorot_uniform(seed=0), name=name_conv+'b')(X)\n",
        "  X = layers.BatchNormalization(axis=3, name=name_BN+'b')(X)\n",
        "  X = layers.Activation('relu')(X)\n",
        "\n",
        "  # Third layer\n",
        "  X = layers.Conv2D(filters[2], kernel_size=(1,1), padding='valid', strides=(stride,stride),\n",
        "                    kernel_initializer=glorot_uniform(seed=0), name=name_conv+'c')(X)\n",
        "  X = layers.BatchNormalization(axis=3, name=name_BN+'c')(X)\n",
        "\n",
        "  # Skip connection\n",
        "  X = layers.Add()([X, X_shortcut])\n",
        "  X = layers.Activation('relu')(X)\n",
        "\n",
        "  return X\n",
        "\n",
        "\n",
        "def convolutional_block(X, filters, block, stage, stride=1):\n",
        "  X_shortcut = X\n",
        "\n",
        "  name_conv = f'resBlock{block}_stage{stage}'\n",
        "  name_BN = f'BNBlock{block}_stage{stage}'\n",
        "\n",
        "  # First layer\n",
        "  X = layers.Conv2D(filters[0], kernel_size=(1,1), padding='valid', strides=(stride,stride),\n",
        "                    kernel_initializer=glorot_uniform(seed=0), name=name_conv+'a')(X)\n",
        "  X = layers.BatchNormalization(axis=3, name=name_BN+'a')(X)\n",
        "  X = layers.Activation('relu')(X)\n",
        "\n",
        "  # Second layer\n",
        "  X = layers.Conv2D(filters[1], kernel_size=(3,3), padding='same', strides=(1,1),\n",
        "                    kernel_initializer=glorot_uniform(seed=0), name=name_conv+'b')(X)\n",
        "  X = layers.BatchNormalization(axis=3, name=name_BN+'b')(X)\n",
        "  X = layers.Activation('relu')(X)\n",
        "\n",
        "  # Third layer\n",
        "  X = layers.Conv2D(filters[2], kernel_size=(1,1), padding='valid', strides=(1,1),\n",
        "                    kernel_initializer=glorot_uniform(seed=0), name=name_conv+'c')(X)\n",
        "  X = layers.BatchNormalization(axis=3, name=name_BN+'c')(X)\n",
        "\n",
        "  # Skip connection with convolution\n",
        "  X_shortcut = layers.Conv2D(filters=filters[2], kernel_size=(1,1), strides=(stride,stride), padding='valid',\n",
        "                             kernel_initializer=glorot_uniform(seed=0), name=name_conv+'a_0')(X_shortcut)\n",
        "  X_shortcut = layers.BatchNormalization(axis=3, name=name_BN+'a_0')(X_shortcut)\n",
        "\n",
        "  X = layers.Add()([X, X_shortcut])\n",
        "  X = layers.Activation('relu')(X)\n",
        "\n",
        "  return X\n",
        "\n",
        "def ResNet50_model(input_shape=(256, 256, 3)):\n",
        "  input = layers.Input(input_shape)\n",
        "  input = layers.experimental.preprocessing.Resizing(256, 256)(input)\n",
        "  input = layers.experimental.preprocessing.Rescaling(1.0/255)(input)\n",
        "\n",
        "  X = layers.ZeroPadding2D((3, 3))(input)\n",
        "  X = layers.Conv2D(filters=64, kernel_size=(7, 7), strides=(2,2), padding='valid',\n",
        "                            kernel_initializer=glorot_uniform(seed=0))(X)\n",
        "  X = layers.BatchNormalization(axis=3, name='bn_conv1')(X)\n",
        "  X = layers.Activation('relu')(X)\n",
        "  X = layers.MaxPooling2D((3, 3), strides=(2, 2), padding='valid')(X)\n",
        "\n",
        "  # 3xBlock 1\n",
        "  X = convolutional_block(X, filters=[64, 64, 256], block='1', stage='1', stride=1)\n",
        "  X = identity_block(X, filters=[64, 64, 256], block='1', stage='2', stride=1)\n",
        "  X = identity_block(X, filters=[64, 64, 256], block='1', stage='3', stride=1)\n",
        "\n",
        "  # 4xBlock 2\n",
        "  X = convolutional_block(X, filters=[128, 128, 256], block='2', stage='1', stride=2)\n",
        "  X = identity_block(X, filters=[128, 128, 256], block='2', stage='2', stride=1)\n",
        "  X = identity_block(X, filters=[128, 128, 256], block='2', stage='3', stride=1)\n",
        "  X = identity_block(X, filters=[128, 128, 256], block='2', stage='4', stride=1)\n",
        "\n",
        "  # 6xBlock 3\n",
        "  X = convolutional_block(X, filters=[256, 256, 1024], block='3', stage='1', stride=2)\n",
        "  X = identity_block(X, filters=[256, 256, 1024], block='3', stage='2', stride=1)\n",
        "  X = identity_block(X, filters=[256, 256, 1024], block='3', stage='3', stride=1)\n",
        "  X = identity_block(X, filters=[256, 256, 1024], block='3', stage='4', stride=1)\n",
        "  X = identity_block(X, filters=[256, 256, 1024], block='3', stage='5', stride=1)\n",
        "  X = identity_block(X, filters=[256, 256, 1024], block='3', stage='6', stride=1)\n",
        "\n",
        "  # 3xBlock 4\n",
        "  X = convolutional_block(X, filters=[512, 512, 2048], block='4', stage='1', stride=2)\n",
        "  X = identity_block(X, filters=[512, 512, 2048], block='4', stage='2', stride=1)\n",
        "  X = identity_block(X, filters=[512, 512, 2048], block='4', stage='3', stride=1)\n",
        "\n",
        "  X = layers.AveragePooling2D(pool_size=(2, 2), padding='same')(X)\n",
        "  X = layers.Flatten()(X)\n",
        "\n",
        "  X = layers.Dense(units=33, activation='softmax', kernel_initializer = glorot_uniform(seed=0))(X)\n",
        "  model = models.Model(inputs=input, outputs=X)\n",
        "\n",
        "  return model\n"
      ]
    },
    {
      "cell_type": "code",
      "execution_count": null,
      "metadata": {
        "colab": {
          "base_uri": "https://localhost:8080/"
        },
        "id": "FV2UUOqVJGh8",
        "outputId": "df750c0d-edb9-4b2d-b6a9-af636d696877"
      },
      "outputs": [
        {
          "name": "stdout",
          "output_type": "stream",
          "text": [
            "Epoch 1/50\n",
            "  3/125 [..............................] - ETA: 58:26 - loss: 120.8501 - accuracy: 0.1042"
          ]
        }
      ],
      "source": [
        "ResNet50 = ResNet50_model((IMAGE_SIZE, IMAGE_SIZE, 3))\n",
        "\n",
        "ResNet50.compile(optimizer=tf.keras.optimizers.Adam(learning_rate=0.01, beta_1=0.9, beta_2=0.999, epsilon=10**(-7)),\n",
        "              loss=tf.keras.losses.SparseCategoricalCrossentropy(from_logits=False),\n",
        "              metrics=['accuracy'])\n",
        "\n",
        "history_logger = CSVLogger('ResNet50_from_scractch_model.csv', separator=\",\", append=True)\n",
        "earlyStopping = EarlyStopping(monitor='val_loss', patience=10, verbose=0, mode='min')\n",
        "\n",
        "history = ResNet50.fit(train_ds,\n",
        "                    epochs=EPOCHS,\n",
        "                    validation_data=val_ds,\n",
        "                    callbacks=[history_logger, earlyStopping])\n",
        "\n",
        "VGG16.save('ResNet50_from_scratch_model.keras')"
      ]
    },
    {
      "cell_type": "markdown",
      "metadata": {
        "id": "oZRClzlbg7aQ"
      },
      "source": [
        "## Xception"
      ]
    },
    {
      "cell_type": "code",
      "execution_count": null,
      "metadata": {
        "id": "bMZL-0huUSmT"
      },
      "outputs": [],
      "source": [
        "def Block1_entry_flow(X, filters):\n",
        "  X_shortcut = X\n",
        "\n",
        "  X = layers.SeparableConv2D(filters, kernel_size=(3,3), strides=(1,1), padding='same')(X)\n",
        "  X = layers.BatchNormalization()(X)\n",
        "  X = layers.Activation('relu')(X)\n",
        "  X = layers.SeparableConv2D(filters, kernel_size=(3,3), strides=(1,1), padding='same')(X)\n",
        "  X = layers.BatchNormalization()(X)\n",
        "  X = layers.Activation('relu')(X)\n",
        "  X = layers.MaxPool2D(pool_size=(3,3), strides=(2,2), padding='same')(X)\n",
        "\n",
        "  # Skip connection with convolution\n",
        "  X_shortcut = layers.Conv2D(filters, kernel_size=(1,1), strides=(2,2), padding='same')(X_shortcut)\n",
        "  X_shortcut = layers.BatchNormalization()(X_shortcut)\n",
        "\n",
        "  X = layers.Add()([X, X_shortcut])\n",
        "  X = layers.Activation('relu')(X)\n",
        "\n",
        "  return X\n",
        "\n",
        "\n",
        "def ResidualBlock(X):\n",
        "  X_shortcut = X\n",
        "  X = layers.SeparableConv2D(728, kernel_size=(3,3), strides=(1,1), padding='same')(X)\n",
        "  X = layers.BatchNormalization()(X)\n",
        "  X = layers.Activation('relu')(X)\n",
        "  X = layers.SeparableConv2D(728, kernel_size=(3,3), strides=(1,1), padding='same')(X)\n",
        "  X = layers.BatchNormalization()(X)\n",
        "  X = layers.Activation('relu')(X)\n",
        "  X = layers.SeparableConv2D(728, kernel_size=(3,3), strides=(1,1), padding='same')(X)\n",
        "  X = layers.BatchNormalization()(X)\n",
        "  residual_block_output = layers.Add()([X, X_shortcut])\n",
        "  residual_block_output = layers.Activation('relu')(residual_block_output)\n",
        "\n",
        "  return residual_block_output\n",
        "\n",
        "\n",
        "def Xception_model(input_shape=(256, 256, 3)):\n",
        "  input = layers.Input(input_shape)\n",
        "  input = layers.experimental.preprocessing.Resizing(256, 256)(input)\n",
        "  input = layers.experimental.preprocessing.Rescaling(1.0/255)(input)\n",
        "\n",
        "  X = layers.Conv2D(32, kernel_size=(3,3), strides=(2,2), padding='valid')(input)\n",
        "  X = layers.BatchNormalization()(X)\n",
        "  X = layers.Activation('relu')(X)\n",
        "  X = layers.Conv2D(64,kernel_size=(3,3), strides=(1,1), padding='valid')(input)\n",
        "  X = layers.BatchNormalization()(X)\n",
        "  X = layers.Activation('relu')(X)\n",
        "\n",
        "  # 3xBlock1_entry_flow\n",
        "  X = Block1_entry_flow(X, 128)\n",
        "  X = Block1_entry_flow(X, 256)\n",
        "  X = Block1_entry_flow(X, 728)\n",
        "\n",
        "  # 8xResidualBlock\n",
        "  for _ in range(8):\n",
        "    X = ResidualBlock(X)\n",
        "\n",
        "  # Block 2 with residual connection\n",
        "  X_shortcut = X\n",
        "  X = layers.SeparableConv2D(728, kernel_size=(3,3), strides=(1,1), padding='same')(X)\n",
        "  X = layers.BatchNormalization()(X)\n",
        "  X = layers.Activation('relu')(X)\n",
        "  X = layers.SeparableConv2D(1024, kernel_size=(3,3), strides=(1,1), padding='same')(X)\n",
        "  X = layers.BatchNormalization()(X)\n",
        "  X = layers.Activation('relu')(X)\n",
        "  X = layers.MaxPool2D(pool_size=(3,3), strides=(2,2), padding='same')(X)\n",
        "\n",
        "  # Skip connection with convolution\n",
        "  X_shortcut = layers.Conv2D(1024, kernel_size=(1,1), strides=(2,2), padding='same')(X_shortcut)\n",
        "  X_shortcut = layers.BatchNormalization()(X_shortcut)\n",
        "\n",
        "  X = layers.Add()([X, X_shortcut])\n",
        "  X = layers.Activation('relu')(X)\n",
        "\n",
        "  X = layers.SeparableConv2D(1536, kernel_size=(3,3), strides=(1,1), padding='same')(X)\n",
        "  X = layers.BatchNormalization()(X)\n",
        "  X = layers.Activation('relu')(X)\n",
        "  X = layers.SeparableConv2D(2048, kernel_size=(3,3), strides=(1,1), padding='same')(X)\n",
        "  X = layers.BatchNormalization()(X)\n",
        "  X = layers.Activation('relu')(X)\n",
        "\n",
        "  X = layers.GlobalAvgPool2D()(X)\n",
        "  X = layers.Dense(units=33, activation='softmax')(X)\n",
        "  model = models.Model(inputs=input, outputs=X)\n",
        "\n",
        "  return model"
      ]
    },
    {
      "cell_type": "code",
      "execution_count": null,
      "metadata": {
        "colab": {
          "base_uri": "https://localhost:8080/"
        },
        "id": "3DbKEZc9kKtl",
        "outputId": "f00b00d7-3f63-452c-9b04-941b1fe43041"
      },
      "outputs": [
        {
          "name": "stdout",
          "output_type": "stream",
          "text": [
            "Epoch 1/50\n"
          ]
        }
      ],
      "source": [
        "Xception = Xception_model((IMAGE_SIZE, IMAGE_SIZE, 3))\n",
        "\n",
        "Xception.compile(optimizer=tf.keras.optimizers.Adam(learning_rate=0.01, beta_1=0.9, beta_2=0.999, epsilon=10**(-7)),\n",
        "              loss=tf.keras.losses.SparseCategoricalCrossentropy(from_logits=False),\n",
        "              metrics=['accuracy'])\n",
        "\n",
        "history_logger = CSVLogger('Xception_from_scractch_model.csv', separator=\",\", append=True)\n",
        "earlyStopping = EarlyStopping(monitor='val_loss', patience=10, verbose=0, mode='min')\n",
        "\n",
        "history = Xception.fit(train_ds,\n",
        "                    epochs=EPOCHS,\n",
        "                    validation_data=val_ds,\n",
        "                    callbacks=[history_logger, earlyStopping])\n",
        "\n",
        "VGG16.save('Xception_from_scratch_model.keras')"
      ]
    },
    {
      "cell_type": "markdown",
      "metadata": {
        "id": "HknGUApogzrJ"
      },
      "source": [
        "## Inception-V3"
      ]
    },
    {
      "cell_type": "code",
      "execution_count": null,
      "metadata": {
        "colab": {
          "background_save": true,
          "base_uri": "https://localhost:8080/"
        },
        "id": "AC7oykAVk2AM",
        "outputId": "a9e28010-70bc-4815-f79a-1bb72243790b"
      },
      "outputs": [
        {
          "name": "stdout",
          "output_type": "stream",
          "text": [
            "Epoch 1/50\n",
            "125/125 [==============================] - ETA: 0s - loss: 19.3994 - accuracy: 0.1100"
          ]
        }
      ],
      "source": [
        "InceptionV3 = tf.keras.applications.InceptionV3(\n",
        "                                include_top=False,\n",
        "                                weights=None,\n",
        "                                input_shape=(IMAGE_SIZE, IMAGE_SIZE, 3))\n",
        "\n",
        "InceptionV3.trainable = True\n",
        "# Create a new 'top' of the model.\n",
        "inputs = tf.keras.Input(shape=((IMAGE_SIZE, IMAGE_SIZE, 3)))\n",
        "top_model = tf.keras.applications.inception_v3.preprocess_input(inputs)\n",
        "top_model = InceptionV3(top_model)\n",
        "top_model = layers.Flatten(name=\"flatten\")(top_model)\n",
        "output_layer = layers.Dense(33, activation='softmax')(top_model)\n",
        "\n",
        "model = models.Model(inputs=inputs, outputs=output_layer)\n",
        "\n",
        "model.compile(optimizer=tf.keras.optimizers.Adam(learning_rate=0.01, beta_1=0.9, beta_2=0.999, epsilon=10**(-7)),\n",
        "                  loss=tf.keras.losses.SparseCategoricalCrossentropy(from_logits=False),\n",
        "                  metrics=['accuracy'])\n",
        "\n",
        "history_logger = CSVLogger('InceptionV3_from_scratch_model_Adam.csv', separator=\",\", append=True)\n",
        "earlyStopping = EarlyStopping(monitor='val_loss', patience=10, verbose=0, mode='min')\n",
        "\n",
        "history = model.fit(train_ds,\n",
        "                    epochs=EPOCHS,\n",
        "                    validation_data=val_ds,\n",
        "                    callbacks=[history_logger, earlyStopping])\n",
        "\n",
        "model.save('InceptionV3_from_scratch_model_Adam.keras')\n"
      ]
    },
    {
      "cell_type": "markdown",
      "metadata": {
        "id": "Es52J29Bg_XQ"
      },
      "source": [
        "## DenseNet201"
      ]
    },
    {
      "cell_type": "code",
      "execution_count": null,
      "metadata": {
        "id": "XULFjFSuhCMw",
        "colab": {
          "base_uri": "https://localhost:8080/"
        },
        "outputId": "16fb975f-4a8d-4171-deeb-6b7239055a7a"
      },
      "outputs": [
        {
          "output_type": "stream",
          "name": "stdout",
          "text": [
            "Epoch 1/50\n"
          ]
        }
      ],
      "source": [
        "DenseNet201 = tf.keras.applications.DenseNet201(\n",
        "                                include_top=False,\n",
        "                                weights=None,\n",
        "                                input_shape=(IMAGE_SIZE, IMAGE_SIZE, 3))\n",
        "\n",
        "DenseNet201.trainable = True\n",
        "# Create a new 'top' of the model.\n",
        "inputs = tf.keras.Input(shape=((IMAGE_SIZE, IMAGE_SIZE, 3)))\n",
        "top_model = tf.keras.applications.densenet.preprocess_input(inputs)\n",
        "top_model = DenseNet201(top_model)\n",
        "top_model = layers.Flatten(name=\"flatten\")(top_model)\n",
        "output_layer = layers.Dense(33, activation='softmax')(top_model)\n",
        "\n",
        "model = models.Model(inputs=inputs, outputs=output_layer)\n",
        "\n",
        "model.compile(optimizer=tf.keras.optimizers.Adam(learning_rate=0.01, beta_1=0.9, beta_2=0.999, epsilon=10**(-7)),\n",
        "                  loss=tf.keras.losses.SparseCategoricalCrossentropy(from_logits=False),\n",
        "                  metrics=['accuracy'])\n",
        "\n",
        "history_logger = CSVLogger('DenseNet201_from_scratch_model_Adam.csv', separator=\",\", append=True)\n",
        "earlyStopping = EarlyStopping(monitor='val_loss', patience=10, verbose=0, mode='min')\n",
        "\n",
        "history = model.fit(test_ds,\n",
        "                    epochs=EPOCHS,\n",
        "                    validation_data=val_ds,\n",
        "                    callbacks=[history_logger, earlyStopping])\n",
        "\n",
        "model.save('DenseNet201_from_scratch_model_Adam.keras')"
      ]
    }
  ],
  "metadata": {
    "accelerator": "GPU",
    "colab": {
      "machine_shape": "hm",
      "provenance": []
    },
    "kernelspec": {
      "display_name": "Python 3",
      "name": "python3"
    },
    "language_info": {
      "name": "python"
    }
  },
  "nbformat": 4,
  "nbformat_minor": 0
}